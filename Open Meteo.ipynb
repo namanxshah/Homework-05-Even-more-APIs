{
 "cells": [
  {
   "cell_type": "markdown",
   "id": "7a5627e4-8888-4072-95af-c544c2cf35bd",
   "metadata": {},
   "source": [
    "#1 I chose Open Meteo because it didn't require an API key. Tomorrow, on the other hand, required me to sign up before giving an API key"
   ]
  },
  {
   "cell_type": "markdown",
   "id": "5842e332-eafc-4ff9-95c8-39df51ffb734",
   "metadata": {},
   "source": [
    "#2 URL to the documentation: https://open-meteo.com/en/docs"
   ]
  },
  {
   "cell_type": "markdown",
   "id": "44d22017-9839-4042-9fe8-ac0cfcf6ce4f",
   "metadata": {},
   "source": [
    "#3 Make a request for the current weather where you are born, or somewhere you've lived."
   ]
  },
  {
   "cell_type": "code",
   "execution_count": 1,
   "id": "3c9f8b1a-c2bf-4dab-837f-007ccfa4e5a0",
   "metadata": {},
   "outputs": [],
   "source": [
    "import requests"
   ]
  },
  {
   "cell_type": "code",
   "execution_count": 3,
   "id": "b396b661-192e-41e0-9b8c-262440d487e3",
   "metadata": {},
   "outputs": [],
   "source": [
    "response = requests.get(f\"https://api.open-meteo.com/v1/forecast?latitude=28.6214&longitude=77.2148&current=temperature_2m\")\n",
    "data = response.json()"
   ]
  },
  {
   "cell_type": "markdown",
   "id": "7437a72a-6a87-450a-878d-293ceb1a5ef5",
   "metadata": {},
   "source": [
    "#4 Print out the country this location is in.\n",
    "Variable for country is not available."
   ]
  },
  {
   "cell_type": "markdown",
   "id": "9868c2a0-cbdd-43ab-8d02-6c7d479a9256",
   "metadata": {},
   "source": [
    "#5 Print out the difference between the current temperature and how warm it feels."
   ]
  },
  {
   "cell_type": "code",
   "execution_count": 4,
   "id": "1c0ede0f-ea30-4db9-8059-7e6655e4888e",
   "metadata": {},
   "outputs": [
    {
     "name": "stdout",
     "output_type": "stream",
     "text": [
      "It feels  7.0 degrees warmer.\n"
     ]
    }
   ],
   "source": [
    "response = requests.get(f\"https://api.open-meteo.com/v1/forecast?latitude=28.6214&longitude=77.2148&current=temperature_2m,apparent_temperature\")\n",
    "data = response.json()\n",
    "temp_dif = ((data['current']['temperature_2m']) - (data['current']['apparent_temperature']))\n",
    "if (data['current']['temperature_2m']) > (data['current']['apparent_temperature']):\n",
    "    print(f\"It feels {temp_dif} degrees colder.\")\n",
    "else:\n",
    "    print(f\"It feels {abs(temp_dif): .1f} degrees warmer.\")"
   ]
  },
  {
   "cell_type": "markdown",
   "id": "35cdc24f-fd0f-4d64-b2f8-8ebb1bf949b9",
   "metadata": {},
   "source": [
    "#6 What's the current temperature at Heathrow International Airport?"
   ]
  },
  {
   "cell_type": "code",
   "execution_count": 5,
   "id": "6e83ba06-d438-4d00-9651-8c39ffd5bdc8",
   "metadata": {},
   "outputs": [
    {
     "name": "stdout",
     "output_type": "stream",
     "text": [
      "The current temperature at Heathrow International Airport is 16.7 degree celcius.\n"
     ]
    }
   ],
   "source": [
    "lhr_response = requests.get(f\"https://api.open-meteo.com/v1/forecast?latitude=51.4673&longitude=-0.4529&current=temperature_2m\")\n",
    "lhr_data = lhr_response.json()\n",
    "print(f\"The current temperature at Heathrow International Airport is {lhr_data['current']['temperature_2m']} degree celcius.\")"
   ]
  },
  {
   "cell_type": "markdown",
   "id": "8826c684-8f05-4c39-9eeb-a96b6c15ea21",
   "metadata": {},
   "source": [
    "#7 What URL would I use to request a 3-day forecast at Heathrow?\n",
    "https://api.open-meteo.com/v1/forecast?latitude=51.4673&longitude=-0.4529&forecast_days=3"
   ]
  },
  {
   "cell_type": "markdown",
   "id": "3b0d2ff3-7740-4b6e-b428-7d2e9ed33faf",
   "metadata": {},
   "source": [
    "#8 Print the date of each of the 3 days you're getting a forecast for."
   ]
  },
  {
   "cell_type": "code",
   "execution_count": 9,
   "id": "a7b247fb-fce2-44a9-bd87-7adf86c80428",
   "metadata": {},
   "outputs": [
    {
     "name": "stdout",
     "output_type": "stream",
     "text": [
      "2025-06-11\n",
      "2025-06-12\n",
      "2025-06-13\n"
     ]
    }
   ],
   "source": [
    "lhr_forecast = requests.get(f\"https://api.open-meteo.com/v1/forecast?latitude=51.4673&longitude=-0.4529&forecast_days=3&daily=temperature_2m_max\")\n",
    "lhr_future = lhr_forecast.json()\n",
    "for dates in lhr_future[\"daily\"][\"time\"]:\n",
    "    print(dates)"
   ]
  },
  {
   "cell_type": "markdown",
   "id": "1162df9e-5eda-43d9-a084-fae29898d20c",
   "metadata": {},
   "source": [
    "#9 Print the maximum temperature of each of the days."
   ]
  },
  {
   "cell_type": "code",
   "execution_count": 22,
   "id": "3cfa4df0-6f71-4c0f-b298-7709d59dfbc0",
   "metadata": {},
   "outputs": [
    {
     "name": "stdout",
     "output_type": "stream",
     "text": [
      "2025-06-11: 22.9°C\n",
      "2025-06-12: 23.6°C\n",
      "2025-06-13: 24.8°C\n"
     ]
    }
   ],
   "source": [
    "for date, temp in zip(lhr_future[\"daily\"][\"time\"], lhr_future[\"daily\"][\"temperature_2m_max\"]):\n",
    "  print(f\"{date}: {temp}°C\")"
   ]
  },
  {
   "cell_type": "markdown",
   "id": "36b099a7-d094-4d3a-a7c9-0cc4cf269fc6",
   "metadata": {},
   "source": [
    "#10 Print only the day with the highest maximum temperature."
   ]
  },
  {
   "cell_type": "code",
   "execution_count": 25,
   "id": "98ae902a-b547-45f8-9954-95802a237d85",
   "metadata": {},
   "outputs": [
    {
     "name": "stdout",
     "output_type": "stream",
     "text": [
      "Hottest day: 2025-06-13 with 24.8°C\n"
     ]
    }
   ],
   "source": [
    "dates = lhr_future[\"daily\"][\"time\"]\n",
    "temps = lhr_future[\"daily\"][\"temperature_2m_max\"]\n",
    "max_index = temps.index(max(temps))\n",
    "print(f\"Hottest day: {dates[max_index]} with {temps[max_index]}°C\")"
   ]
  },
  {
   "cell_type": "markdown",
   "id": "145bb094-e7a7-4957-b985-744374f6104e",
   "metadata": {},
   "source": [
    "#11 Although the documentation of Open Meteor wasn't very difficult, it doesn't beat the convenience of Interactive API Explorer in WeatherAPI. I I would definitely recomment Weather APIover Open Meteor."
   ]
  }
 ],
 "metadata": {
  "kernelspec": {
   "display_name": "Python 3 (ipykernel)",
   "language": "python",
   "name": "python3"
  },
  "language_info": {
   "codemirror_mode": {
    "name": "ipython",
    "version": 3
   },
   "file_extension": ".py",
   "mimetype": "text/x-python",
   "name": "python",
   "nbconvert_exporter": "python",
   "pygments_lexer": "ipython3",
   "version": "3.11.9"
  }
 },
 "nbformat": 4,
 "nbformat_minor": 5
}
